{
  "nbformat": 4,
  "nbformat_minor": 0,
  "metadata": {
    "colab": {
      "provenance": []
    },
    "kernelspec": {
      "name": "python3",
      "display_name": "Python 3"
    },
    "language_info": {
      "name": "python"
    }
  },
  "cells": [
    {
      "cell_type": "code",
      "source": [
        "import pandas as pd"
      ],
      "metadata": {
        "id": "PyZB_erVV-xJ"
      },
      "execution_count": 1,
      "outputs": []
    },
    {
      "cell_type": "code",
      "source": [
        "import numpy as np"
      ],
      "metadata": {
        "id": "7Zh8HB9MXCva"
      },
      "execution_count": 2,
      "outputs": []
    },
    {
      "cell_type": "code",
      "source": [
        "import matplotlib.pyplot as plt"
      ],
      "metadata": {
        "id": "Q3MHe9jWXLIO"
      },
      "execution_count": 3,
      "outputs": []
    },
    {
      "cell_type": "code",
      "source": [
        "from sklearn.datasets import load_digits"
      ],
      "metadata": {
        "id": "nQHRrlUGXSjW"
      },
      "execution_count": 4,
      "outputs": []
    },
    {
      "cell_type": "code",
      "source": [
        "df =  load_digits()"
      ],
      "metadata": {
        "id": "F6GircwTXwOT"
      },
      "execution_count": 5,
      "outputs": []
    },
    {
      "cell_type": "code",
      "source": [
        "_, axes = plt.subplots(nrows = 1,ncols=4 , figsize=(10,3))\n",
        "for ax,image, label in zip(axes, df.images ,df.target):\n",
        "  ax.set_axis_off()\n",
        "  ax.imshow(image, cmap=plt.cm.gray_r, interpolation=\"nearest\")\n",
        "  ax.set_title(\"Training %i\" % label)"
      ],
      "metadata": {
        "colab": {
          "base_uri": "https://localhost:8080/",
          "height": 183
        },
        "id": "g818WSobX1rr",
        "outputId": "ffff5d79-4cf2-4412-961d-7a4fdab4a64d"
      },
      "execution_count": 6,
      "outputs": [
        {
          "output_type": "display_data",
          "data": {
            "text/plain": [
              "<Figure size 1000x300 with 4 Axes>"
            ],
            "image/png": "[encoded data removed]"
          },
          "metadata": {}
        }
      ]
    },
    {
      "cell_type": "code",
      "source": [
        "df.images.shape\n",
        "(1797,8,8)"
      ],
      "metadata": {
        "colab": {
          "base_uri": "https://localhost:8080/"
        },
        "id": "cxfrV8SdY1Bz",
        "outputId": "ad9e14e7-11f1-43bf-ac7b-05e48ec11584"
      },
      "execution_count": 7,
      "outputs": [
        {
          "output_type": "execute_result",
          "data": {
            "text/plain": [
              "(1797, 8, 8)"
            ]
          },
          "metadata": {},
          "execution_count": 7
        }
      ]
    },
    {
      "cell_type": "code",
      "source": [
        "df.images[0]\n",
        "np.array([[0.,  0.,  5., 13.,  9.,  1., 0., 0.],\n",
        "       [0.,  0., 13., 15., 10., 15., 5., 0.],\n",
        "       [0.,  3., 15.,  2.,  0., 11., 8., 0.],\n",
        "       [0.,  4., 12.,  0.,  0.,  8., 8., 0.],\n",
        "       [0.,  5.,  8.,  0.,  0.,  9., 8., 0.],\n",
        "       [0.,  4., 11.,  0.,  1., 12., 7., 0.],\n",
        "       [0.,  2., 14.,  5., 10., 12., 0., 0.],\n",
        "       [0.,  0.,  6., 13., 10.,  0., 0., 0.]])"
      ],
      "metadata": {
        "colab": {
          "base_uri": "https://localhost:8080/"
        },
        "id": "hoLYma4BZAdh",
        "outputId": "7f12e40a-49ed-42fa-a732-84daa38b6589"
      },
      "execution_count": 9,
      "outputs": [
        {
          "output_type": "execute_result",
          "data": {
            "text/plain": [
              "array([[ 0.,  0.,  5., 13.,  9.,  1.,  0.,  0.],\n",
              "       [ 0.,  0., 13., 15., 10., 15.,  5.,  0.],\n",
              "       [ 0.,  3., 15.,  2.,  0., 11.,  8.,  0.],\n",
              "       [ 0.,  4., 12.,  0.,  0.,  8.,  8.,  0.],\n",
              "       [ 0.,  5.,  8.,  0.,  0.,  9.,  8.,  0.],\n",
              "       [ 0.,  4., 11.,  0.,  1., 12.,  7.,  0.],\n",
              "       [ 0.,  2., 14.,  5., 10., 12.,  0.,  0.],\n",
              "       [ 0.,  0.,  6., 13., 10.,  0.,  0.,  0.]])"
            ]
          },
          "metadata": {},
          "execution_count": 9
        }
      ]
    },
    {
      "cell_type": "code",
      "source": [
        "df.images[0].shape\n",
        "(8,8)"
      ],
      "metadata": {
        "colab": {
          "base_uri": "https://localhost:8080/"
        },
        "id": "k8zMt6nea1hz",
        "outputId": "729eb900-17fa-4321-8336-16716805859c"
      },
      "execution_count": 10,
      "outputs": [
        {
          "output_type": "execute_result",
          "data": {
            "text/plain": [
              "(8, 8)"
            ]
          },
          "metadata": {},
          "execution_count": 10
        }
      ]
    },
    {
      "cell_type": "code",
      "source": [
        "len(df.images)\n",
        "1797"
      ],
      "metadata": {
        "colab": {
          "base_uri": "https://localhost:8080/"
        },
        "id": "xZbC2d6Ha-7V",
        "outputId": "332ed403-e265-4145-8f1a-819827c4f9e7"
      },
      "execution_count": 11,
      "outputs": [
        {
          "output_type": "execute_result",
          "data": {
            "text/plain": [
              "1797"
            ]
          },
          "metadata": {},
          "execution_count": 11
        }
      ]
    },
    {
      "cell_type": "code",
      "source": [
        "n_samples = len(df.images)\n",
        "data = df.images.reshape((n_samples, -1))"
      ],
      "metadata": {
        "id": "O-uuxbOobEjQ"
      },
      "execution_count": 12,
      "outputs": []
    },
    {
      "cell_type": "code",
      "source": [
        "data[0].shape\n",
        "(64,)"
      ],
      "metadata": {
        "colab": {
          "base_uri": "https://localhost:8080/"
        },
        "id": "1mcDQBrRbaxU",
        "outputId": "5b540657-e576-48da-a631-5c49a183371a"
      },
      "execution_count": 13,
      "outputs": [
        {
          "output_type": "execute_result",
          "data": {
            "text/plain": [
              "(64,)"
            ]
          },
          "metadata": {},
          "execution_count": 13
        }
      ]
    },
    {
      "cell_type": "code",
      "source": [
        "data.shape\n",
        "(1797, 64)"
      ],
      "metadata": {
        "colab": {
          "base_uri": "https://localhost:8080/"
        },
        "id": "bYwSwN9bbhbS",
        "outputId": "f54bd8f8-28f2-4646-8449-0850b16dd0bf"
      },
      "execution_count": 14,
      "outputs": [
        {
          "output_type": "execute_result",
          "data": {
            "text/plain": [
              "(1797, 64)"
            ]
          },
          "metadata": {},
          "execution_count": 14
        }
      ]
    },
    {
      "cell_type": "code",
      "source": [
        "data.min()\n",
        "0.0"
      ],
      "metadata": {
        "colab": {
          "base_uri": "https://localhost:8080/"
        },
        "id": "x_6YhqGnbqss",
        "outputId": "328c9a73-bc85-4c6e-a418-9afd14ebb73d"
      },
      "execution_count": 15,
      "outputs": [
        {
          "output_type": "execute_result",
          "data": {
            "text/plain": [
              "0.0"
            ]
          },
          "metadata": {},
          "execution_count": 15
        }
      ]
    },
    {
      "cell_type": "code",
      "source": [
        "data.max()\n",
        "16.0"
      ],
      "metadata": {
        "colab": {
          "base_uri": "https://localhost:8080/"
        },
        "id": "N_GgDu78buyJ",
        "outputId": "b13f0cef-bc3f-4478-e567-b4746ad762d2"
      },
      "execution_count": 16,
      "outputs": [
        {
          "output_type": "execute_result",
          "data": {
            "text/plain": [
              "16.0"
            ]
          },
          "metadata": {},
          "execution_count": 16
        }
      ]
    },
    {
      "cell_type": "code",
      "source": [
        "data = data/16"
      ],
      "metadata": {
        "id": "QZ7kMTHdbyax"
      },
      "execution_count": 17,
      "outputs": []
    },
    {
      "cell_type": "code",
      "source": [
        "data.min()\n",
        "0.0"
      ],
      "metadata": {
        "colab": {
          "base_uri": "https://localhost:8080/"
        },
        "id": "g4K59jPOb68t",
        "outputId": "559e3d33-ca27-4a77-92f1-450f28deeeb0"
      },
      "execution_count": 18,
      "outputs": [
        {
          "output_type": "execute_result",
          "data": {
            "text/plain": [
              "0.0"
            ]
          },
          "metadata": {},
          "execution_count": 18
        }
      ]
    },
    {
      "cell_type": "code",
      "source": [
        "data.max()\n",
        "1.0"
      ],
      "metadata": {
        "colab": {
          "base_uri": "https://localhost:8080/"
        },
        "id": "twzgJpB4cCJD",
        "outputId": "cd0002d2-70f1-4f29-a4f0-33fd628c6357"
      },
      "execution_count": 19,
      "outputs": [
        {
          "output_type": "execute_result",
          "data": {
            "text/plain": [
              "1.0"
            ]
          },
          "metadata": {},
          "execution_count": 19
        }
      ]
    },
    {
      "cell_type": "code",
      "source": [
        "data[0]\n",
        "np.array([0.    , 0.    , 0.3125, 0.8125, 0.5625, 0.0625, 0.    , 0.    ,\n",
        "          0.    , 0.    , 0.8125, 0.9375, 0.625 , 0.9375, 0.3125, 0.    ,\n",
        "          0.    , 0.1875, 0.9375, 0.125 , 0.    , 0.6875, 0.5   , 0.    ,\n",
        "          0.    , 0.25  , 0.75  , 0.    , 0.    , 0.5   , 0.5   , 0.    ,\n",
        "          0.    , 0.3125, 0.5   , 0.    , 0.    , 0.5625, 0.5   , 0.    ,\n",
        "          0.    , 0.25  , 0.6875, 0.    , 0.0625, 0.75  , 0.4375, 0.    ,\n",
        "          0.    , 0.125 , 0.875 , 0.3125, 0.625 , 0.75  , 0.    , 0.    ,\n",
        "          0.    , 0.    , 0.375 , 0.8125, 0.625 , 0.    , 0.    , 0.    ,])\n",
        ""
      ],
      "metadata": {
        "colab": {
          "base_uri": "https://localhost:8080/"
        },
        "id": "XvwCvZlkcMgY",
        "outputId": "6c5f1f01-33e5-4678-9dc5-f7c54d897ba1"
      },
      "execution_count": 20,
      "outputs": [
        {
          "output_type": "execute_result",
          "data": {
            "text/plain": [
              "array([0.    , 0.    , 0.3125, 0.8125, 0.5625, 0.0625, 0.    , 0.    ,\n",
              "       0.    , 0.    , 0.8125, 0.9375, 0.625 , 0.9375, 0.3125, 0.    ,\n",
              "       0.    , 0.1875, 0.9375, 0.125 , 0.    , 0.6875, 0.5   , 0.    ,\n",
              "       0.    , 0.25  , 0.75  , 0.    , 0.    , 0.5   , 0.5   , 0.    ,\n",
              "       0.    , 0.3125, 0.5   , 0.    , 0.    , 0.5625, 0.5   , 0.    ,\n",
              "       0.    , 0.25  , 0.6875, 0.    , 0.0625, 0.75  , 0.4375, 0.    ,\n",
              "       0.    , 0.125 , 0.875 , 0.3125, 0.625 , 0.75  , 0.    , 0.    ,\n",
              "       0.    , 0.    , 0.375 , 0.8125, 0.625 , 0.    , 0.    , 0.    ])"
            ]
          },
          "metadata": {},
          "execution_count": 20
        }
      ]
    },
    {
      "cell_type": "code",
      "source": [
        "from sklearn.model_selection import train_test_split"
      ],
      "metadata": {
        "id": "n2MObIVCfRvd"
      },
      "execution_count": 21,
      "outputs": []
    },
    {
      "cell_type": "code",
      "source": [
        "X_train, X_test, y_train, y_test = train_test_split(data, df.target, test_size=0.3)"
      ],
      "metadata": {
        "id": "LNy3JxsOfbHO"
      },
      "execution_count": 22,
      "outputs": []
    },
    {
      "cell_type": "code",
      "source": [
        "X_train.shape, X_test.shape, y_train.shape, y_test.shape\n",
        "((1257,64),(540,64),(1257,),(540,))"
      ],
      "metadata": {
        "colab": {
          "base_uri": "https://localhost:8080/"
        },
        "id": "JmI-dmZEgdl5",
        "outputId": "ab06419c-663b-410e-8747-83177451dd03"
      },
      "execution_count": 23,
      "outputs": [
        {
          "output_type": "execute_result",
          "data": {
            "text/plain": [
              "((1257, 64), (540, 64), (1257,), (540,))"
            ]
          },
          "metadata": {},
          "execution_count": 23
        }
      ]
    },
    {
      "cell_type": "code",
      "source": [
        "from sklearn.ensemble import RandomForestClassifier"
      ],
      "metadata": {
        "id": "zNsFO5CfhMzK"
      },
      "execution_count": 24,
      "outputs": []
    },
    {
      "cell_type": "code",
      "source": [
        "rf = RandomForestClassifier()"
      ],
      "metadata": {
        "id": "aqBxHNQ_hZ-K"
      },
      "execution_count": 25,
      "outputs": []
    },
    {
      "cell_type": "code",
      "source": [
        "rf.fit(X_train, y_train)\n",
        "RandomForestClassifier()"
      ],
      "metadata": {
        "colab": {
          "base_uri": "https://localhost:8080/",
          "height": 74
        },
        "id": "-qSGItixhlYb",
        "outputId": "a575621a-9281-47d5-b393-c189fec2736b"
      },
      "execution_count": 30,
      "outputs": [
        {
          "output_type": "execute_result",
          "data": {
            "text/plain": [
              "RandomForestClassifier()"
            ],
            "text/html": [
              "<style>#sk-container-id-1 {color: black;background-color: white;}#sk-container-id-1 pre{padding: 0;}#sk-container-id-1 div.sk-toggleable {background-color: white;}#sk-container-id-1 label.sk-toggleable__label {cursor: pointer;display: block;width: 100%;margin-bottom: 0;padding: 0.3em;box-sizing: border-box;text-align: center;}#sk-container-id-1 label.sk-toggleable__label-arrow:before {content: \"▸\";float: left;margin-right: 0.25em;color: #696969;}#sk-container-id-1 label.sk-toggleable__label-arrow:hover:before {color: black;}#sk-container-id-1 div.sk-estimator:hover label.sk-toggleable__label-arrow:before {color: black;}#sk-container-id-1 div.sk-toggleable__content {max-height: 0;max-width: 0;overflow: hidden;text-align: left;background-color: #f0f8ff;}#sk-container-id-1 div.sk-toggleable__content pre {margin: 0.2em;color: black;border-radius: 0.25em;background-color: #f0f8ff;}#sk-container-id-1 input.sk-toggleable__control:checked~div.sk-toggleable__content {max-height: 200px;max-width: 100%;overflow: auto;}#sk-container-id-1 input.sk-toggleable__control:checked~label.sk-toggleable__label-arrow:before {content: \"▾\";}#sk-container-id-1 div.sk-estimator input.sk-toggleable__control:checked~label.sk-toggleable__label {background-color: #d4ebff;}#sk-container-id-1 div.sk-label input.sk-toggleable__control:checked~label.sk-toggleable__label {background-color: #d4ebff;}#sk-container-id-1 input.sk-hidden--visually {border: 0;clip: rect(1px 1px 1px 1px);clip: rect(1px, 1px, 1px, 1px);height: 1px;margin: -1px;overflow: hidden;padding: 0;position: absolute;width: 1px;}#sk-container-id-1 div.sk-estimator {font-family: monospace;background-color: #f0f8ff;border: 1px dotted black;border-radius: 0.25em;box-sizing: border-box;margin-bottom: 0.5em;}#sk-container-id-1 div.sk-estimator:hover {background-color: #d4ebff;}#sk-container-id-1 div.sk-parallel-item::after {content: \"\";width: 100%;border-bottom: 1px solid gray;flex-grow: 1;}#sk-container-id-1 div.sk-label:hover label.sk-toggleable__label {background-color: #d4ebff;}#sk-container-id-1 div.sk-serial::before {content: \"\";position: absolute;border-left: 1px solid gray;box-sizing: border-box;top: 0;bottom: 0;left: 50%;z-index: 0;}#sk-container-id-1 div.sk-serial {display: flex;flex-direction: column;align-items: center;background-color: white;padding-right: 0.2em;padding-left: 0.2em;position: relative;}#sk-container-id-1 div.sk-item {position: relative;z-index: 1;}#sk-container-id-1 div.sk-parallel {display: flex;align-items: stretch;justify-content: center;background-color: white;position: relative;}#sk-container-id-1 div.sk-item::before, #sk-container-id-1 div.sk-parallel-item::before {content: \"\";position: absolute;border-left: 1px solid gray;box-sizing: border-box;top: 0;bottom: 0;left: 50%;z-index: -1;}#sk-container-id-1 div.sk-parallel-item {display: flex;flex-direction: column;z-index: 1;position: relative;background-color: white;}#sk-container-id-1 div.sk-parallel-item:first-child::after {align-self: flex-end;width: 50%;}#sk-container-id-1 div.sk-parallel-item:last-child::after {align-self: flex-start;width: 50%;}#sk-container-id-1 div.sk-parallel-item:only-child::after {width: 0;}#sk-container-id-1 div.sk-dashed-wrapped {border: 1px dashed gray;margin: 0 0.4em 0.5em 0.4em;box-sizing: border-box;padding-bottom: 0.4em;background-color: white;}#sk-container-id-1 div.sk-label label {font-family: monospace;font-weight: bold;display: inline-block;line-height: 1.2em;}#sk-container-id-1 div.sk-label-container {text-align: center;}#sk-container-id-1 div.sk-container {/* jupyter's `normalize.less` sets `[hidden] { display: none; }` but bootstrap.min.css set `[hidden] { display: none !important; }` so we also need the `!important` here to be able to override the default hidden behavior on the sphinx rendered scikit-learn.org. See: https://github.com/scikit-learn/scikit-learn/issues/21755 */display: inline-block !important;position: relative;}#sk-container-id-1 div.sk-text-repr-fallback {display: none;}</style><div id=\"sk-container-id-1\" class=\"sk-top-container\"><div class=\"sk-text-repr-fallback\"><pre>RandomForestClassifier()</pre><b>In a Jupyter environment, please rerun this cell to show the HTML representation or trust the notebook. <br />On GitHub, the HTML representation is unable to render, please try loading this page with nbviewer.org.</b></div><div class=\"sk-container\" hidden><div class=\"sk-item\"><div class=\"sk-estimator sk-toggleable\"><input class=\"sk-toggleable__control sk-hidden--visually\" id=\"sk-estimator-id-1\" type=\"checkbox\" checked><label for=\"sk-estimator-id-1\" class=\"sk-toggleable__label sk-toggleable__label-arrow\">RandomForestClassifier</label><div class=\"sk-toggleable__content\"><pre>RandomForestClassifier()</pre></div></div></div></div></div>"
            ]
          },
          "metadata": {},
          "execution_count": 30
        }
      ]
    },
    {
      "cell_type": "code",
      "source": [
        "y_pred = rf.predict(X_test)"
      ],
      "metadata": {
        "id": "qc013JdIiN5i"
      },
      "execution_count": 31,
      "outputs": []
    },
    {
      "cell_type": "code",
      "source": [
        "y_pred\n",
        "np.array([6, 5, 2, 6, 8, 8, 2, 7, 5, 1, 1, 4, 3, 7, 2, 0, 0, 7, 0, 2, 5, 3,\n",
        "       2, 5, 2, 7, 5, 9, 1, 8, 3, 3, 1, 1, 8, 4, 0, 4, 2, 1, 3, 1, 6, 9,\n",
        "       8, 8, 6, 7, 5, 4, 3, 8, 5, 0, 6, 0, 7, 1, 1, 1, 6, 1, 9, 3, 8, 8,\n",
        "       8, 1, 5, 0, 6, 2, 5, 9, 3, 5, 6, 0, 3, 5, 4, 0, 4, 1, 9, 1, 1, 3,\n",
        "       0, 3, 7, 1, 6, 3, 9, 7, 2, 9, 6, 2, 7, 0, 6, 9, 9, 3, 5, 4, 4, 6,\n",
        "       3, 6, 2, 3, 9, 6, 3, 7, 2, 7, 3, 1, 3, 6, 1, 9, 0, 5, 2, 9, 6, 1,\n",
        "       3, 4, 1, 6, 7, 2, 8, 8, 2, 7, 7, 0, 7, 1, 2, 5, 0, 0, 3, 1, 5, 8,\n",
        "       0, 3, 0, 1, 5, 5, 4, 8, 0, 7, 9, 5, 5, 5, 6, 4, 3, 6, 9, 3, 6, 0,\n",
        "       2, 5, 9, 5, 7, 6, 4, 2, 2, 5, 7, 7, 2, 0, 8, 1, 0, 7, 6, 7, 2, 7,\n",
        "       6, 6, 1, 4, 4, 7, 5, 0, 2, 9, 8, 4, 0, 0, 8, 1, 9, 4, 2, 4, 6, 1,\n",
        "       0, 4, 5, 1, 6, 3, 1, 4, 8, 3, 7, 3, 3, 8, 9, 1, 2, 5, 5, 0, 7, 1,\n",
        "       2, 7, 3, 0, 7, 9, 4, 7, 3, 5, 8, 1, 3, 3, 3, 6, 8, 3, 3, 6, 1, 1,\n",
        "       3, 7, 8, 6, 9, 9, 6, 7, 0, 3, 9, 8, 0, 7, 9, 2, 7, 1, 5, 3, 2, 2,\n",
        "       1, 4, 2, 5, 2, 0, 9, 5, 1, 2, 1, 8, 8, 3, 0, 8, 4, 2, 9, 8, 3, 2,\n",
        "       6, 7, 1, 1, 4, 8, 9, 5, 1, 5, 6, 4, 0, 7, 3, 7, 4, 7, 7, 9, 5, 0,\n",
        "       5, 0, 9, 2, 0, 1, 1, 9, 3, 7, 4, 7, 0, 0, 3, 9, 6, 2, 8, 8, 9, 0,\n",
        "       6, 7, 1, 2, 6, 3, 9, 8, 1, 6, 9, 3, 5, 1, 6, 6, 7, 9, 1, 0, 1, 2,\n",
        "       5, 2, 1, 4, 2, 8, 9, 5, 1, 7, 3, 2, 0, 9, 8, 3, 6, 4, 2, 2, 9, 1,\n",
        "       2, 8, 4, 0, 4, 2, 8, 3, 8, 0, 6, 2, 0, 1, 5, 7, 6, 5, 5, 8, 6, 5,\n",
        "       5, 6, 2, 5, 8, 8, 4, 7, 4, 0, 7, 0, 0, 2, 0, 8, 4, 8, 1, 6, 4, 2,\n",
        "       7, 0, 4, 7, 1, 1, 1, 2, 6, 2, 8, 6, 1, 9, 1, 2, 0, 3, 6, 0, 5, 5,\n",
        "       9, 7, 0, 0, 6, 3, 4, 5, 3, 9, 9, 8, 1, 2, 4, 4, 5, 4, 2, 5, 0, 6,\n",
        "       9, 3, 1, 5, 0, 5, 7, 2, 2, 6, 5, 2, 4, 9, 7, 3, 8, 5, 1, 2, 0, 5,\n",
        "       2, 9, 2, 3, 4, 8, 5, 7, 7, 4, 0, 0, 1, 9, 2, 1, 6, 7, 3, 8, 7, 5,\n",
        "       2, 0, 5, 0, 0, 4, 8, 5, 5, 7, 9, 3])\n",
        "\n"
      ],
      "metadata": {
        "colab": {
          "base_uri": "https://localhost:8080/"
        },
        "id": "0PyH2HqzieUS",
        "outputId": "0d43ada0-0035-4032-cbd4-7e1044d682bc"
      },
      "execution_count": 32,
      "outputs": [
        {
          "output_type": "execute_result",
          "data": {
            "text/plain": [
              "array([6, 5, 2, 6, 8, 8, 2, 7, 5, 1, 1, 4, 3, 7, 2, 0, 0, 7, 0, 2, 5, 3,\n",
              "       2, 5, 2, 7, 5, 9, 1, 8, 3, 3, 1, 1, 8, 4, 0, 4, 2, 1, 3, 1, 6, 9,\n",
              "       8, 8, 6, 7, 5, 4, 3, 8, 5, 0, 6, 0, 7, 1, 1, 1, 6, 1, 9, 3, 8, 8,\n",
              "       8, 1, 5, 0, 6, 2, 5, 9, 3, 5, 6, 0, 3, 5, 4, 0, 4, 1, 9, 1, 1, 3,\n",
              "       0, 3, 7, 1, 6, 3, 9, 7, 2, 9, 6, 2, 7, 0, 6, 9, 9, 3, 5, 4, 4, 6,\n",
              "       3, 6, 2, 3, 9, 6, 3, 7, 2, 7, 3, 1, 3, 6, 1, 9, 0, 5, 2, 9, 6, 1,\n",
              "       3, 4, 1, 6, 7, 2, 8, 8, 2, 7, 7, 0, 7, 1, 2, 5, 0, 0, 3, 1, 5, 8,\n",
              "       0, 3, 0, 1, 5, 5, 4, 8, 0, 7, 9, 5, 5, 5, 6, 4, 3, 6, 9, 3, 6, 0,\n",
              "       2, 5, 9, 5, 7, 6, 4, 2, 2, 5, 7, 7, 2, 0, 8, 1, 0, 7, 6, 7, 2, 7,\n",
              "       6, 6, 1, 4, 4, 7, 5, 0, 2, 9, 8, 4, 0, 0, 8, 1, 9, 4, 2, 4, 6, 1,\n",
              "       0, 4, 5, 1, 6, 3, 1, 4, 8, 3, 7, 3, 3, 8, 9, 1, 2, 5, 5, 0, 7, 1,\n",
              "       2, 7, 3, 0, 7, 9, 4, 7, 3, 5, 8, 1, 3, 3, 3, 6, 8, 3, 3, 6, 1, 1,\n",
              "       3, 7, 8, 6, 9, 9, 6, 7, 0, 3, 9, 8, 0, 7, 9, 2, 7, 1, 5, 3, 2, 2,\n",
              "       1, 4, 2, 5, 2, 0, 9, 5, 1, 2, 1, 8, 8, 3, 0, 8, 4, 2, 9, 8, 3, 2,\n",
              "       6, 7, 1, 1, 4, 8, 9, 5, 1, 5, 6, 4, 0, 7, 3, 7, 4, 7, 7, 9, 5, 0,\n",
              "       5, 0, 9, 2, 0, 1, 1, 9, 3, 7, 4, 7, 0, 0, 3, 9, 6, 2, 8, 8, 9, 0,\n",
              "       6, 7, 1, 2, 6, 3, 9, 8, 1, 6, 9, 3, 5, 1, 6, 6, 7, 9, 1, 0, 1, 2,\n",
              "       5, 2, 1, 4, 2, 8, 9, 5, 1, 7, 3, 2, 0, 9, 8, 3, 6, 4, 2, 2, 9, 1,\n",
              "       2, 8, 4, 0, 4, 2, 8, 3, 8, 0, 6, 2, 0, 1, 5, 7, 6, 5, 5, 8, 6, 5,\n",
              "       5, 6, 2, 5, 8, 8, 4, 7, 4, 0, 7, 0, 0, 2, 0, 8, 4, 8, 1, 6, 4, 2,\n",
              "       7, 0, 4, 7, 1, 1, 1, 2, 6, 2, 8, 6, 1, 9, 1, 2, 0, 3, 6, 0, 5, 5,\n",
              "       9, 7, 0, 0, 6, 3, 4, 5, 3, 9, 9, 8, 1, 2, 4, 4, 5, 4, 2, 5, 0, 6,\n",
              "       9, 3, 1, 5, 0, 5, 7, 2, 2, 6, 5, 2, 4, 9, 7, 3, 8, 5, 1, 2, 0, 5,\n",
              "       2, 9, 2, 3, 4, 8, 5, 7, 7, 4, 0, 0, 1, 9, 2, 1, 6, 7, 3, 8, 7, 5,\n",
              "       2, 0, 5, 0, 0, 4, 8, 5, 5, 7, 9, 3])"
            ]
          },
          "metadata": {},
          "execution_count": 32
        }
      ]
    },
    {
      "cell_type": "code",
      "source": [
        "from sklearn.metrics import confusion_matrix, classification_report"
      ],
      "metadata": {
        "id": "JcU2X9T4yja2"
      },
      "execution_count": 33,
      "outputs": []
    },
    {
      "cell_type": "code",
      "source": [
        "confusion_matrix(y_test, y_pred)\n",
        "np.array([[60,  0,  0,  0,  1,  0,  0,  0,  0,  0],\n",
        "          [ 0, 60,  0,  1,  0,  0,  0,  0,  0,  0],\n",
        "          [ 0,  0, 61,  0,  0,  0,  0,  0,  0,  1],\n",
        "          [ 0,  0,  0, 54,  0,  0,  0,  1,  0,  0],\n",
        "          [ 0,  0,  0,  0, 40,  0,  0,  1,  0,  0],\n",
        "          [ 0,  0,  0,  0,  0, 58,  1,  0,  1,  0],\n",
        "          [ 0,  1,  0,  0,  1,  0, 50,  0,  0,  0],\n",
        "          [ 0,  0,  0,  0,  0,  0,  0, 52,  0,  0],\n",
        "          [ 0,  2,  0,  0,  1,  1,  0,  0, 46,  0],\n",
        "          [ 0,  0,  0,  0,  1,  0,  0,  1,  0, 45]])\n",
        ""
      ],
      "metadata": {
        "colab": {
          "base_uri": "https://localhost:8080/"
        },
        "id": "wps1K6jsy0Lb",
        "outputId": "61f997e6-4b95-4275-faa3-9784d31108ab"
      },
      "execution_count": 34,
      "outputs": [
        {
          "output_type": "execute_result",
          "data": {
            "text/plain": [
              "array([[60,  0,  0,  0,  1,  0,  0,  0,  0,  0],\n",
              "       [ 0, 60,  0,  1,  0,  0,  0,  0,  0,  0],\n",
              "       [ 0,  0, 61,  0,  0,  0,  0,  0,  0,  1],\n",
              "       [ 0,  0,  0, 54,  0,  0,  0,  1,  0,  0],\n",
              "       [ 0,  0,  0,  0, 40,  0,  0,  1,  0,  0],\n",
              "       [ 0,  0,  0,  0,  0, 58,  1,  0,  1,  0],\n",
              "       [ 0,  1,  0,  0,  1,  0, 50,  0,  0,  0],\n",
              "       [ 0,  0,  0,  0,  0,  0,  0, 52,  0,  0],\n",
              "       [ 0,  2,  0,  0,  1,  1,  0,  0, 46,  0],\n",
              "       [ 0,  0,  0,  0,  1,  0,  0,  1,  0, 45]])"
            ]
          },
          "metadata": {},
          "execution_count": 34
        }
      ]
    },
    {
      "cell_type": "code",
      "source": [
        "print(classification_report(y_test, y_pred))"
      ],
      "metadata": {
        "colab": {
          "base_uri": "https://localhost:8080/"
        },
        "id": "9ZpAXozA0t8m",
        "outputId": "b3f37a4e-e11c-44da-fc4b-df5f2bdb11d5"
      },
      "execution_count": 35,
      "outputs": [
        {
          "output_type": "stream",
          "name": "stdout",
          "text": [
            "              precision    recall  f1-score   support\n",
            "\n",
            "           0       1.00      0.98      0.99        54\n",
            "           1       0.94      1.00      0.97        65\n",
            "           2       0.98      1.00      0.99        43\n",
            "           3       0.98      0.93      0.95        67\n",
            "           4       0.98      0.98      0.98        58\n",
            "           5       1.00      1.00      1.00        55\n",
            "           6       1.00      1.00      1.00        43\n",
            "           7       0.95      0.98      0.97        59\n",
            "           8       0.92      0.87      0.89        53\n",
            "           9       0.95      0.98      0.97        43\n",
            "\n",
            "    accuracy                           0.97       540\n",
            "   macro avg       0.97      0.97      0.97       540\n",
            "weighted avg       0.97      0.97      0.97       540\n",
            "\n"
          ]
        }
      ]
    },
    {
      "cell_type": "code",
      "source": [],
      "metadata": {
        "id": "3hdIDlEJ03xl"
      },
      "execution_count": null,
      "outputs": []
    }
  ]
}